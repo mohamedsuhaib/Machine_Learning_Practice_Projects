{
 "cells": [
  {
   "cell_type": "markdown",
   "metadata": {},
   "source": [
    "<img src=\"http://cfs22.simplicdn.net/ice9/new_logo.svgz \"/>\n",
    "\n",
    "# Assignment: Storing Test Results\n",
    "\n",
    "*The comments/sections provided are your cues to perform the assignment. You don't need to limit yourself to the number of rows/cells provided. You can add additional rows in each section to add more lines of code.*\n",
    "\n",
    "*If at any point in time you need help on solving this assignment, view our demo video to understand the different steps of the code.*\n",
    "\n",
    "**Happy coding!**\n",
    "\n",
    "* * *"
   ]
  },
  {
   "cell_type": "markdown",
   "metadata": {},
   "source": [
    "# Storing Test Results\n",
    "__Problem Statement:__ \n",
    "\n",
    "From the raw data below create a data frame:\n",
    "\n",
    "'first_name': ['Jason', 'Molly', 'Tina', 'Jake', 'Amy'], \n",
    "\n",
    "'last_name': ['Miller', 'Jacobson', \".\", 'Milner', 'Cooze'], \n",
    "\n",
    "'age': [42, 52, 36, 24, 73], 'preTestScore': [4, 24, 31, \".\", \".\"],\n",
    "\n",
    "'postTestScore': [\"25,000\", \"94,000\", 57, 62, 70]\n",
    "\n",
    "__Objective:__ \n",
    "\n",
    "Perform data processing on raw data:\n",
    "* Save the data frame into a csv file as project.csv\n",
    "* Read the project.csv and print the data frame\n",
    "* Read the project.csv without column heading\n",
    "* Read the project.csv and make the index columns as 'First Name’ and 'Last Name'\n",
    "* Print the data frame in a Boolean form as True or False. True for Null/ NaN values and false for \n",
    "non-null values\n",
    "* Read the data frame by skipping first 3 rows and print the data frame"
   ]
  },
  {
   "cell_type": "markdown",
   "metadata": {
    "toc": true
   },
   "source": [
    "<h1>Table of Contents<span class=\"tocSkip\"></span></h1>\n",
    "<div class=\"toc\"><ul class=\"toc-item\"><li><span><a href=\"#Save-the-data-frame-into-a-csv-file-as-project.csv\" data-toc-modified-id=\"Save-the-data-frame-into-a-csv-file-as-project.csv-1\"><span class=\"toc-item-num\">1&nbsp;&nbsp;</span>Save the data frame into a csv file as project.csv</a></span></li><li><span><a href=\"#Read-the-project.csv-and-print-the-data-frame\" data-toc-modified-id=\"Read-the-project.csv-and-print-the-data-frame-2\"><span class=\"toc-item-num\">2&nbsp;&nbsp;</span>Read the project.csv and print the data frame</a></span></li><li><span><a href=\"#Read-the-project.csv-without-column-heading\" data-toc-modified-id=\"Read-the-project.csv-without-column-heading-3\"><span class=\"toc-item-num\">3&nbsp;&nbsp;</span>Read the project.csv without column heading</a></span></li><li><span><a href=\"#Read-the-project.csv-and-make-the-index-columns-as-'First-Name’-and-'Last-Name'\" data-toc-modified-id=\"Read-the-project.csv-and-make-the-index-columns-as-'First-Name’-and-'Last-Name'-4\"><span class=\"toc-item-num\">4&nbsp;&nbsp;</span>Read the project.csv and make the index columns as 'First Name’ and 'Last Name'</a></span></li><li><span><a href=\"#Print-the-data-frame-in-a-Boolean-form-as-True-or-False.-True-for-Null/-NaN-values-and-false-for-non-null-values\" data-toc-modified-id=\"Print-the-data-frame-in-a-Boolean-form-as-True-or-False.-True-for-Null/-NaN-values-and-false-for-non-null-values-5\"><span class=\"toc-item-num\">5&nbsp;&nbsp;</span>Print the data frame in a Boolean form as True or False. True for Null/ NaN values and false for non-null values</a></span></li><li><span><a href=\"#Read-the-data-frame-by-skipping-first-3-rows-and-print-the-data-frame\" data-toc-modified-id=\"Read-the-data-frame-by-skipping-first-3-rows-and-print-the-data-frame-6\"><span class=\"toc-item-num\">6&nbsp;&nbsp;</span>Read the data frame by skipping first 3 rows and print the data frame</a></span></li></ul></div>"
   ]
  },
  {
   "cell_type": "code",
   "execution_count": 1,
   "metadata": {
    "ExecuteTime": {
     "end_time": "2021-08-15T08:18:10.735855Z",
     "start_time": "2021-08-15T08:18:09.973851Z"
    }
   },
   "outputs": [
    {
     "name": "stdout",
     "output_type": "stream",
     "text": [
      "  first_name last_name  age preTestScore postTestScore\n",
      "0      Jason    Miller   42            4        25,000\n",
      "1      Molly  Jacobson   52           24        94,000\n",
      "2       Tina         .   36           31            57\n",
      "3       Jake    Milner   24            .            62\n",
      "4        Amy     Cooze   73            .            70\n"
     ]
    }
   ],
   "source": [
    "# Impor the Pandas Library\n",
    "import pandas as pd\n",
    "\n",
    "#Raw Data\n",
    "raw_data = {'first_name': ['Jason', 'Molly', 'Tina', 'Jake', 'Amy'],\n",
    "        'last_name': ['Miller', 'Jacobson', \".\", 'Milner', 'Cooze'],\n",
    "        'age': [42, 52, 36, 24, 73],\n",
    "        'preTestScore': [4, 24, 31, \".\", \".\"],\n",
    "        'postTestScore': [\"25,000\", \"94,000\", 57, 62, 70]}\n",
    "\n",
    "#Create a new DataFrame using Raw Data\n",
    "df = pd.DataFrame(raw_data, columns = ['first_name', 'last_name', 'age', 'preTestScore', 'postTestScore'])\n",
    "print(df)"
   ]
  },
  {
   "cell_type": "markdown",
   "metadata": {},
   "source": [
    "## Save the data frame into a csv file as project.csv"
   ]
  },
  {
   "cell_type": "code",
   "execution_count": 2,
   "metadata": {
    "ExecuteTime": {
     "end_time": "2021-08-15T08:18:10.765855Z",
     "start_time": "2021-08-15T08:18:10.735855Z"
    },
    "scrolled": false
   },
   "outputs": [
    {
     "data": {
      "text/html": [
       "<div>\n",
       "<style scoped>\n",
       "    .dataframe tbody tr th:only-of-type {\n",
       "        vertical-align: middle;\n",
       "    }\n",
       "\n",
       "    .dataframe tbody tr th {\n",
       "        vertical-align: top;\n",
       "    }\n",
       "\n",
       "    .dataframe thead th {\n",
       "        text-align: right;\n",
       "    }\n",
       "</style>\n",
       "<table border=\"1\" class=\"dataframe\">\n",
       "  <thead>\n",
       "    <tr style=\"text-align: right;\">\n",
       "      <th></th>\n",
       "      <th>first_name</th>\n",
       "      <th>last_name</th>\n",
       "      <th>age</th>\n",
       "      <th>preTestScore</th>\n",
       "      <th>postTestScore</th>\n",
       "    </tr>\n",
       "  </thead>\n",
       "  <tbody>\n",
       "    <tr>\n",
       "      <th>0</th>\n",
       "      <td>Jason</td>\n",
       "      <td>Miller</td>\n",
       "      <td>42</td>\n",
       "      <td>4</td>\n",
       "      <td>25,000</td>\n",
       "    </tr>\n",
       "    <tr>\n",
       "      <th>1</th>\n",
       "      <td>Molly</td>\n",
       "      <td>Jacobson</td>\n",
       "      <td>52</td>\n",
       "      <td>24</td>\n",
       "      <td>94,000</td>\n",
       "    </tr>\n",
       "    <tr>\n",
       "      <th>2</th>\n",
       "      <td>Tina</td>\n",
       "      <td>.</td>\n",
       "      <td>36</td>\n",
       "      <td>31</td>\n",
       "      <td>57</td>\n",
       "    </tr>\n",
       "    <tr>\n",
       "      <th>3</th>\n",
       "      <td>Jake</td>\n",
       "      <td>Milner</td>\n",
       "      <td>24</td>\n",
       "      <td>.</td>\n",
       "      <td>62</td>\n",
       "    </tr>\n",
       "    <tr>\n",
       "      <th>4</th>\n",
       "      <td>Amy</td>\n",
       "      <td>Cooze</td>\n",
       "      <td>73</td>\n",
       "      <td>.</td>\n",
       "      <td>70</td>\n",
       "    </tr>\n",
       "  </tbody>\n",
       "</table>\n",
       "</div>"
      ],
      "text/plain": [
       "  first_name last_name  age preTestScore postTestScore\n",
       "0      Jason    Miller   42            4        25,000\n",
       "1      Molly  Jacobson   52           24        94,000\n",
       "2       Tina         .   36           31            57\n",
       "3       Jake    Milner   24            .            62\n",
       "4        Amy     Cooze   73            .            70"
      ]
     },
     "execution_count": 2,
     "metadata": {},
     "output_type": "execute_result"
    }
   ],
   "source": [
    "#Save the DataFrame using 'to_csv'\n",
    "df.to_csv('project.csv')\n",
    "df"
   ]
  },
  {
   "cell_type": "markdown",
   "metadata": {},
   "source": [
    "## Read the project.csv and print the data frame"
   ]
  },
  {
   "cell_type": "code",
   "execution_count": 3,
   "metadata": {
    "ExecuteTime": {
     "end_time": "2021-08-15T08:18:10.815855Z",
     "start_time": "2021-08-15T08:18:10.765855Z"
    },
    "scrolled": true
   },
   "outputs": [
    {
     "name": "stdout",
     "output_type": "stream",
     "text": [
      "   Unnamed: 0 first_name last_name  age preTestScore postTestScore\n",
      "0           0      Jason    Miller   42            4        25,000\n",
      "1           1      Molly  Jacobson   52           24        94,000\n",
      "2           2       Tina         .   36           31            57\n",
      "3           3       Jake    Milner   24            .            62\n",
      "4           4        Amy     Cooze   73            .            70\n"
     ]
    }
   ],
   "source": [
    "#Read the csv file using 'read_csv'\n",
    "df = pd.read_csv('project.csv')\n",
    "print(df)"
   ]
  },
  {
   "cell_type": "markdown",
   "metadata": {},
   "source": [
    "## Read the project.csv without column heading"
   ]
  },
  {
   "cell_type": "code",
   "execution_count": 4,
   "metadata": {
    "ExecuteTime": {
     "end_time": "2021-08-15T08:18:10.865855Z",
     "start_time": "2021-08-15T08:18:10.845855Z"
    },
    "scrolled": false
   },
   "outputs": [
    {
     "name": "stdout",
     "output_type": "stream",
     "text": [
      "     0           1          2    3             4              5\n",
      "0  NaN  first_name  last_name  age  preTestScore  postTestScore\n",
      "1  0.0       Jason     Miller   42             4         25,000\n",
      "2  1.0       Molly   Jacobson   52            24         94,000\n",
      "3  2.0        Tina          .   36            31             57\n",
      "4  3.0        Jake     Milner   24             .             62\n",
      "5  4.0         Amy      Cooze   73             .             70\n"
     ]
    }
   ],
   "source": [
    "#Read the csv file without Column heading\n",
    "df = pd.read_csv('project.csv', header=None)\n",
    "print(df)"
   ]
  },
  {
   "cell_type": "markdown",
   "metadata": {},
   "source": [
    "## Read the project.csv and make the index columns as 'First Name’ and 'Last Name'"
   ]
  },
  {
   "cell_type": "code",
   "execution_count": 5,
   "metadata": {
    "ExecuteTime": {
     "end_time": "2021-08-15T08:18:10.925856Z",
     "start_time": "2021-08-15T08:18:10.885855Z"
    },
    "scrolled": true
   },
   "outputs": [
    {
     "name": "stdout",
     "output_type": "stream",
     "text": [
      "                      UID  Age Pre-Test Score Post-Test Score\n",
      "First Name Last Name                                         \n",
      "first_name last_name  NaN  age   preTestScore   postTestScore\n",
      "Jason      Miller     0.0   42              4          25,000\n",
      "Molly      Jacobson   1.0   52             24          94,000\n",
      "Tina       .          2.0   36             31              57\n",
      "Jake       Milner     3.0   24              .              62\n",
      "Amy        Cooze      4.0   73              .              70\n"
     ]
    }
   ],
   "source": [
    "#Read the csv file with index columns\n",
    "df = pd.read_csv('project.csv', index_col=['First Name', 'Last Name'], names=['UID', 'First Name', 'Last Name', 'Age', 'Pre-Test Score', 'Post-Test Score'])\n",
    "print(df)"
   ]
  },
  {
   "cell_type": "markdown",
   "metadata": {},
   "source": [
    "## Print the data frame in a Boolean form as True or False. True for Null/ NaN values and false for non-null values"
   ]
  },
  {
   "cell_type": "code",
   "execution_count": 6,
   "metadata": {
    "ExecuteTime": {
     "end_time": "2021-08-15T08:18:10.995856Z",
     "start_time": "2021-08-15T08:18:10.935856Z"
    },
    "scrolled": true
   },
   "outputs": [
    {
     "name": "stdout",
     "output_type": "stream",
     "text": [
      "   Unnamed: 0  first_name  last_name    age  preTestScore  postTestScore\n",
      "0       False       False      False  False         False          False\n",
      "1       False       False      False  False         False          False\n",
      "2       False       False       True  False         False          False\n",
      "3       False       False      False  False          True          False\n",
      "4       False       False      False  False          True          False\n"
     ]
    }
   ],
   "source": [
    "#Print the DataFrame in Boolean Form\n",
    "df = pd.read_csv('project.csv', na_values=['.'])\n",
    "print(pd.isnull(df))"
   ]
  },
  {
   "cell_type": "markdown",
   "metadata": {},
   "source": [
    "## Read the data frame by skipping first 3 rows and print the data frame"
   ]
  },
  {
   "cell_type": "code",
   "execution_count": 7,
   "metadata": {
    "ExecuteTime": {
     "end_time": "2021-08-15T08:18:11.095856Z",
     "start_time": "2021-08-15T08:18:10.995856Z"
    }
   },
   "outputs": [
    {
     "name": "stdout",
     "output_type": "stream",
     "text": [
      "   2  Tina       .  36 31  57\n",
      "0  3  Jake  Milner  24  .  62\n",
      "1  4   Amy   Cooze  73  .  70\n"
     ]
    }
   ],
   "source": [
    "#Read the DataFrame by skipping first 3 rows\n",
    "df = pd.read_csv('project.csv', skiprows=3)\n",
    "print(df)"
   ]
  }
 ],
 "metadata": {
  "kernelspec": {
   "display_name": "Python 3",
   "language": "python",
   "name": "python3"
  },
  "language_info": {
   "codemirror_mode": {
    "name": "ipython",
    "version": 3
   },
   "file_extension": ".py",
   "mimetype": "text/x-python",
   "name": "python",
   "nbconvert_exporter": "python",
   "pygments_lexer": "ipython3",
   "version": "3.8.10"
  },
  "toc": {
   "base_numbering": 1,
   "nav_menu": {},
   "number_sections": true,
   "sideBar": true,
   "skip_h1_title": true,
   "title_cell": "Table of Contents",
   "title_sidebar": "Contents",
   "toc_cell": true,
   "toc_position": {},
   "toc_section_display": true,
   "toc_window_display": true
  }
 },
 "nbformat": 4,
 "nbformat_minor": 2
}
