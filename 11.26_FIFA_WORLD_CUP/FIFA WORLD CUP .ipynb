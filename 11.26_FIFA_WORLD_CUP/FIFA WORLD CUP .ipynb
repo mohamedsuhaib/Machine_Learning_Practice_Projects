{
 "cells": [
  {
   "cell_type": "markdown",
   "metadata": {
    "ExecuteTime": {
     "end_time": "2021-08-21T15:06:15.829919Z",
     "start_time": "2021-08-21T15:06:15.820919Z"
    }
   },
   "source": [
    "<img src=\"http://cfs22.simplicdn.net/ice9/new_logo.svgz \"/>\n",
    "\n",
    "# Assignment:  FIFA WORLD CUP\n",
    "\n",
    "*The comments/sections provided are your cues to perform the assignment. You don't need to limit yourself to the number of rows/cells provided. You can add additional rows in each section to add more lines of code.*\n",
    "\n",
    "*If at any point in time you need help on solving this assignment, view our demo video to understand the different steps of the code.*\n",
    "\n",
    "**Happy coding!**\n",
    "\n",
    "* * *"
   ]
  },
  {
   "cell_type": "markdown",
   "metadata": {},
   "source": [
    "# FIFA WORLD CUP\n",
    "__DESCRIPTION__\n",
    "\n",
    "The 2018 FIFA World Cup was the 21st FIFA World Cup which is an international football tournament contested by the men&#39;s national teams of the member associations of FIFA conducted once every four years. It took place in Russia from 14 June 2018 to 15 July 2018 and was the first World Cup to be held in Eastern Europe.\n",
    "\n",
    "__Objective:__ Practice text processing using FIFAWorldCup2018.txt file.\n",
    "\n",
    "__Actions to Perform:__\n",
    "\n",
    "1. Write separate Python functions that accept a string, a number ‘n,’ and return the following:\n",
    "\n",
    "    * N most frequent nouns (Take function name as “GetNMostFrequentNouns”)\n",
    "    * N most frequent verbs (Take function name as “GetNMostFrequentVerbs”)\n",
    "    * N most frequent delimiters (Take function name as “GetNMostFrequentDelimiters”)\n",
    "    * N most frequent prepositions (Take function name as “GetNMostFrequentPrepositions”)\n",
    "\n",
    "Run all the functions on the file “FIFAWorldCup2018.txt” and print the results.\n",
    "\n",
    "2. Write a Python function that accepts a string and prints the first  sentence in the string along with its syntax tree.\n",
    "\n",
    "    * Take function name as “PrintSyntaxTree”\n",
    "\n",
    "Run this function on the file “FIFAWorldCup2018.txt” \n",
    "\n",
    "3. Write a Python function that accepts and returns a string using regular expressions: \n",
    "\n",
    "    * Text from the string after removing all the punctuations (Take function name as “TextAfterRemovingPunctuations”)\n",
    "    * Text from the string after removing all the numbers/digits (Take function name as “TextAfterRemovingDigits”)\n",
    "    * All the words that  begin with the capital letter (Take function name as “AllCapitalizedWordsFromText”)\n",
    "    * All the emails from the string (Take function name as “AllEmailsFromText”)\n",
    "\n",
    "Run all the above functions on the file “FIFAWorldCup2018.txt” and print the results.\n",
    "\n",
    "4. Write Python functions that accept a string as an input and return the following chunks:\n",
    "\n",
    "    * Phrases having proper nouns followed by verbs (Take function name as “ChunkingVer1”)\n",
    "    * Verb phrases having verbs followed by adjectives (Take function name as “ChunkingVer2”)\n",
    "    * Noun phrases having determiners followed by nouns (Take function name as “ChunkingVer3”)\n",
    "    * Verb phrases having verbs followed by adverbs (Take function name as “ChunkingVer4”)\n",
    "    * Phrases having delimiter, adjectives, and nouns in the respective order. (Take function name as “ChunkingVer5”)\n",
    "    * Noun phrases having nouns and adjectives, terminated with nouns. (Take function name as “ChunkingVer5”)\n",
    "\n",
    "Run all the functions for the first sentence in the file “FIFAWorldCup2018.txt” and print the results.\n",
    "\n",
    "5. Make a content-free grammar having the following rules: \n",
    "\n",
    "    * Noun phrases are followed by verb phrases\n",
    "    * Verb phrase can have: \n",
    "        * Verb and noun phrases \n",
    "        * Verb, noun phrases, and preposition phrases\n",
    "    * Noun phrases can have: \n",
    "        * Delimiters followed by noun \n",
    "    * Preposition phrase has a preposition followed by a noun phrase\n",
    "\n",
    "The delimiters, verbs, prepositions, and nouns for the grammar should be the 2 most frequent words of each type \n",
    "from “FIFAWorldCup2018.txt”. Generate the CFG for “FIFAWorldCup2018.txt” file and save them in a file named \n",
    "“CFG.txt”."
   ]
  },
  {
   "cell_type": "markdown",
   "metadata": {},
   "source": [
    "## Write separate Python functions that accept a string, a number ‘n,’ and return the following:\n",
    "* N most frequent nouns (Take function name as “GetNMostFrequentNouns”)\n",
    "* N most frequent verbs (Take function name as “GetNMostFrequentVerbs”)\n",
    "* N most frequent delimiters (Take function name as “GetNMostFrequentDelimiters”)\n",
    "* N most frequent prepositions (Take function name as “GetNMostFrequentPrepositions”)\n",
    "\n",
    "Run all the functions on the file “FIFAWorldCup2018.txt” and print the results."
   ]
  },
  {
   "cell_type": "code",
   "execution_count": 1,
   "metadata": {
    "ExecuteTime": {
     "end_time": "2021-08-21T15:40:09.072214Z",
     "start_time": "2021-08-21T15:40:09.068214Z"
    }
   },
   "outputs": [],
   "source": [
    "import os\n",
    "pathtogs='C:\\\\Program Files\\\\gs\\\\gs9.24\\\\bin'\n",
    "os.environ['PATH']+=os.pathsep+pathtogs\n"
   ]
  },
  {
   "cell_type": "code",
   "execution_count": 2,
   "metadata": {
    "ExecuteTime": {
     "end_time": "2021-08-21T15:40:10.809313Z",
     "start_time": "2021-08-21T15:40:09.074214Z"
    }
   },
   "outputs": [],
   "source": [
    "#import required Liraries\n",
    "import nltk\n",
    "from collections import Counter\n",
    "\n",
    "#Create function for GetPOSTags\n",
    "def GetPOSTags(string):\n",
    "    tokens=nltk.word_tokenize(string)\n",
    "    pos_tags=nltk.pos_tag(tokens)\n",
    "    return pos_tags\n",
    "\n",
    "#Create fuction for GetNMostFrequentNouns\n",
    "def GetNMostFrequentNouns(string,n):\n",
    "    POSTags=GetPOSTags(string)\n",
    "    allForms=['NN','NNP','NNS','NNPS']\n",
    "    count=0\n",
    "    words=[]\n",
    "    for word,tag in POSTags:\n",
    "        if tag in allForms:\n",
    "            words.append(word.lower())\n",
    "    c=Counter(words)\n",
    "    return list(dict(c.most_common(n)).keys())\n",
    "\n",
    "#Create fuction for GetNMostFrequentVerbs\n",
    "def GetNMostFrequentVerbs(string,n):\n",
    "    POSTags=GetPOSTags(string)\n",
    "    allForms=['VB','VBP','VBZ','VBG','VBD','VBN']\n",
    "    count=0\n",
    "    words=[]\n",
    "    for word,tag in POSTags:\n",
    "        if tag in allForms:\n",
    "            words.append(word.lower())\n",
    "    c=Counter(words)\n",
    "    return list(dict(c.most_common(n)).keys())\n",
    "\n",
    "#Create fuction for GetNMostFrequentDelimiters\n",
    "def GetNMostFrequentDelimiters(string,n):\n",
    "    POSTags=GetPOSTags(string)\n",
    "    allForms=['DT']\n",
    "    count=0\n",
    "    words=[]\n",
    "    for word,tag in POSTags:\n",
    "        if tag in allForms:\n",
    "            words.append(word.lower())\n",
    "    c=Counter(words)\n",
    "    return list(dict(c.most_common(n)).keys())\n",
    "\n",
    "#Create fuction for GetNMostFrequentPrepositions\n",
    "def GetNMostFrequentPrepositions(string,n):\n",
    "    POSTags=GetPOSTags(string)\n",
    "    allForms=['IN']\n",
    "    count=0\n",
    "    words=[]\n",
    "    for word,tag in POSTags:\n",
    "        if tag in allForms:\n",
    "            words.append(word.lower())\n",
    "    c=Counter(words)\n",
    "    return list(dict(c.most_common(n)).keys())"
   ]
  },
  {
   "cell_type": "code",
   "execution_count": 3,
   "metadata": {
    "ExecuteTime": {
     "end_time": "2021-08-21T15:40:11.164334Z",
     "start_time": "2021-08-21T15:40:10.812314Z"
    }
   },
   "outputs": [
    {
     "name": "stdout",
     "output_type": "stream",
     "text": [
      "10 Most Frequent Nouns: ['world', 'cup', 'fifa', 'russia', 'tournament', 'bids', 'bid', 'infrastructure', 'teams', 'cost']\n",
      "10 Most Frequent Verbs: ['was', 'had', 'were', 'is', 'won', 'took', 'be', 'held', 'been', 'came']\n",
      "10 Most Frequent Nouns: ['the', 'a', 'an', 'both', 'all']\n",
      "10 Most Frequent Perpositions: ['of', 'in', 'from', 'for', 'that', 'on', 'at', 'by', 'as', 'with']\n"
     ]
    }
   ],
   "source": [
    "#Run all the function on the file “FIFAWorldCup2018.txt” and print the results.\n",
    "\n",
    "#reading the file\n",
    "file=open(\"FIFAWorldCup2018.txt\",'r')\n",
    "content=file.read()\n",
    "file.close()\n",
    "\n",
    "#Frequency count\n",
    "N=10\n",
    "\n",
    "#N most frequent noun\n",
    "print (N,\"Most Frequent Nouns:\",GetNMostFrequentNouns(content,N))\n",
    "\n",
    "#N most frequent verbs\n",
    "print (N,\"Most Frequent Verbs:\",GetNMostFrequentVerbs(content,N))\n",
    "\n",
    "#N most frequent delimiters\n",
    "print (N,\"Most Frequent Nouns:\",GetNMostFrequentDelimiters(content,N))\n",
    "\n",
    "#N most frequent prepositions\n",
    "print (N,\"Most Frequent Perpositions:\",GetNMostFrequentPrepositions(content,N))"
   ]
  },
  {
   "cell_type": "markdown",
   "metadata": {},
   "source": [
    "## Write a Python function that accepts a string and prints the first  sentence in the string along with its syntax tree.\n",
    "* Take function name as “PrintSyntaxTree”\n",
    "\n",
    "Run this function on the file “FIFAWorldCup2018.txt” "
   ]
  },
  {
   "cell_type": "code",
   "execution_count": 4,
   "metadata": {
    "ExecuteTime": {
     "end_time": "2021-08-21T15:40:11.170334Z",
     "start_time": "2021-08-21T15:40:11.166334Z"
    }
   },
   "outputs": [],
   "source": [
    "import nltk\n",
    "def PrintSyntaxTree(sent):\n",
    "    first_sent=sent.split(\".\")[0]+\".\"\n",
    "    sent_tokens=nltk.pos_tag(nltk.word_tokenize(first_sent))\n",
    "    grammar=r\"NP:{<DT>?<JJ>*<NN>}\"\n",
    "    chunk_parser=nltk.RegexpParser(grammar)\n",
    "    chunk_result=chunk_parser.parse(sent_tokens)\n",
    "    print (first_sent)\n",
    "    return chunk_result"
   ]
  },
  {
   "cell_type": "code",
   "execution_count": 5,
   "metadata": {
    "ExecuteTime": {
     "end_time": "2021-08-21T15:40:11.225337Z",
     "start_time": "2021-08-21T15:40:11.172334Z"
    }
   },
   "outputs": [
    {
     "name": "stdout",
     "output_type": "stream",
     "text": [
      "2018 FIFA World CUP is an international tournament where all teams compete religously and they showcase beautiful talent.\n",
      "(S\n",
      "  2018/CD\n",
      "  FIFA/NNP\n",
      "  World/NNP\n",
      "  CUP/NNP\n",
      "  is/VBZ\n",
      "  (NP an/DT international/JJ tournament/NN)\n",
      "  where/WRB\n",
      "  all/DT\n",
      "  teams/NNS\n",
      "  compete/VBP\n",
      "  religously/RB\n",
      "  and/CC\n",
      "  they/PRP\n",
      "  showcase/VBP\n",
      "  (NP beautiful/JJ talent/NN)\n",
      "  ./.)\n"
     ]
    }
   ],
   "source": [
    "#Run this function on the file “FIFAWorldCup2018.txt” \n",
    "\n",
    "#Reading the file\n",
    "file=open(\"FIFAWorldCup2018.txt\",'r')\n",
    "content=file.read()\n",
    "file.close()\n",
    "\n",
    "#Printing the tree \n",
    "print(PrintSyntaxTree(content))"
   ]
  },
  {
   "cell_type": "markdown",
   "metadata": {},
   "source": [
    "## Write a Python function that accepts and returns a string using regular expressions: \n",
    "* Text from the string after removing all the punctuations (Take function name as “TextAfterRemovingPunctuations”)\n",
    "* Text from the string after removing all the numbers/digits (Take function name as “TextAfterRemovingDigits”)\n",
    "* All the words that  begin with the capital letter (Take function name as “AllCapitalizedWordsFromText”)\n",
    "* All the emails from the string (Take function name as “AllEmailsFromText”)\n",
    "\n",
    "Run all the above functions on the file “FIFAWorldCup2018.txt” and print the results."
   ]
  },
  {
   "cell_type": "code",
   "execution_count": 6,
   "metadata": {
    "ExecuteTime": {
     "end_time": "2021-08-21T15:40:11.257339Z",
     "start_time": "2021-08-21T15:40:11.226337Z"
    }
   },
   "outputs": [],
   "source": [
    "import re\n",
    "\n",
    "#Function for converting String to Text without punctuations\n",
    "def TextAfterRemovingPunctuations(string):\n",
    "    s = re.sub(r'[^\\w\\s]','',string)\n",
    "    return s\n",
    "\n",
    "#Function for converting String to Text without numbers/digits\n",
    "def TextAfterRemovingDigits(string):\n",
    "    s=re.sub(r\"(^|\\W)\\d+\", \"\", string)\n",
    "    return s\n",
    "\n",
    "#Function for converting words to Uppercase\n",
    "def AllCapitalizedWordsFromText(string):\n",
    "    s = re.findall(r'(\\b[A-Z]([a-z])*\\b)',string)\n",
    "    Capitalized=[]\n",
    "    for word,lastcharacter in s:\n",
    "        Capitalized.append(word)\n",
    "    return Capitalized\n",
    "    \n",
    "#Function to find all emails from the string    \n",
    "def AllEmailsFromText(string):\n",
    "    match = re.findall(r'[\\w\\.-]+@[\\w\\.-]+', string)\n",
    "    return match"
   ]
  },
  {
   "cell_type": "code",
   "execution_count": 7,
   "metadata": {
    "ExecuteTime": {
     "end_time": "2021-08-21T15:40:11.296341Z",
     "start_time": "2021-08-21T15:40:11.259339Z"
    }
   },
   "outputs": [
    {
     "name": "stdout",
     "output_type": "stream",
     "text": [
      "After Removing Punctuation: \n",
      "\n",
      "2018 FIFA World CUP is an international tournament where all teams compete religously and they showcase beautiful talent It took place in Russia from 14 June to 15 July 2018 It was the first World Cup to be held in Eastern Europe and the 11th time that it had been held in Europe At an estimated cost of over 142 billion it was the most expensive World Cup It was also the first World Cup to use the video assistant referee  system \n",
      "The finals involved 32 teams of which 31 came through qualifying competitions while the host nation qualified automatically Of the 32 teams 20 had also appeared in the previous tournament in 2014 while both Iceland and Panama made their first appearances at a FIFA World Cup A total of 64 matches were played in 12 venues across 11 cities \n",
      "The final took place on 15 July at the Luzhniki Stadium in Moscow between France and Croatia France won the match 42 to claim their second World Cup title marking the fourth consecutive title won by a European team\n",
      "The bidding procedure to host the 2018 and 2022 FIFA World Cup tournaments began in January 2009 and national associations had until 2 February 2009 to register their interest Initially nine countries placed bids for the 2018 FIFA World Cup but Mexico later withdrew from proceedings  and Indonesias bid was rejected by FIFA in February 2010 after the Indonesian government failed to submit a letter to support the bid  During the bidding process the three remaining nonUEFA nations Australia Japan and the United States gradually withdrew from the 2018 bids and the UEFA nations were thus ruled out of the 2022 bid As such there were eventually four bids for the 2018 FIFA World Cup two of which were joint bids England Russia NetherlandsBelgium and PortugalSpain\n",
      "The 22member FIFA Executive Committee convened in Zürich on 2 December 2010 to vote to select the hosts of both tournaments Russia won the right to be the 2018 host in the second round of voting The PortugalSpain bid came second and that from BelgiumNetherlands third England which was bidding to host its second tournament was eliminated in the first round\n",
      "The English Football Association and others raised concerns of bribery on the part of the Russian team and corruption from FIFA members They claimed that four members of the executive committee had requested bribes to vote for England and Sepp Blatter had said that it had already been arranged before the vote that Russia would win  The 2014 Garcia Report an internal investigation led by Michael J Garcia was withheld from public release by HansJoachim Eckert FIFAs head of adjudication on ethical matters Eckert instead released a shorter revised summary and his and therefore FIFAs reluctance to publish the full report caused Garcia to resign in protest Because of the controversy the FA refused to accept Eckerts absolving of Russia from blame with Greg Dyke calling for a reexamination of the affair and David Bernstein calling for a boycott of the World Cup\n",
      "At an estimated cost of over 142 billion as of June 2018  it is the most expensive World Cup in history surpassing the cost of the 2014 FIFA World Cup in Brazil \n",
      "The Russian government had originally earmarked a budget of around 20 billion which was later slashed to 10 billion for the preparations of the World Cup of which half is spent on transport infrastructure As part of the program for preparation to the 2018 FIFA World Cup a federal subprogram Construction and Renovation of Transport Infrastructure was implemented with a total budget of 3525 billion rubles with 1703 billion coming from the federal budget 351 billion from regional budgets and 1471 billion from investors The biggest item of federal spending was the aviation infrastructure 1178 billion rubles86 Construction of new hotels was a crucial area of infrastructure development in the World Cup host cities Costs continued to balloon as preparations were underway\n",
      "There were 169 goals scored in 64 matches for an average of 264 goals per match\n",
      "Twelve own goals were scored during the tournament doubling the record of six set in 1998\n",
      "\n",
      "\n",
      "\n",
      "\n"
     ]
    }
   ],
   "source": [
    "#Run all the above functions on the file “FIFAWorldCup2018.txt” and print the results.\n",
    "\n",
    "#Reading the file\n",
    "file=open(\"FIFAWorldCup2018.txt\",'r')\n",
    "content=file.read()\n",
    "file.close()\n",
    "\n",
    "#Print the Test After Removing Punctuation\n",
    "print (\"After Removing Punctuation: \\n\")\n",
    "print (TextAfterRemovingPunctuations(content))\n",
    "print (\"\\n\")"
   ]
  },
  {
   "cell_type": "code",
   "execution_count": 8,
   "metadata": {
    "ExecuteTime": {
     "end_time": "2021-08-21T15:40:11.333343Z",
     "start_time": "2021-08-21T15:40:11.298341Z"
    }
   },
   "outputs": [
    {
     "name": "stdout",
     "output_type": "stream",
     "text": [
      "After Removing Digits: \n",
      "\n",
      " FIFA World CUP is an international tournament where all teams compete religously and they showcase beautiful talent. It took place in Russia from June to July. It was the first World Cup to be held in Eastern Europe, and theth time that it had been held in Europe. At an estimated cost of over billion, it was the most expensive World Cup. It was also the first World Cup to use the video assistant referee  system. \n",
      "The finals involved teams, of which came through qualifying competitions, while the host nation qualified automatically. Of the teams, had also appeared in the previous tournament in, while both Iceland and Panama made their first appearances at a FIFA World Cup. A total of matches were played in venues across cities. \n",
      "The final took place on July at the Luzhniki Stadium in Moscow, between France and Croatia. France won the match to claim their second World Cup title, marking the fourth consecutive title won by a European team.\n",
      "The bidding procedure to host the and FIFA World Cup tournaments began in January, and national associations had until February to register their interest. Initially, nine countries placed bids for the FIFA World Cup, but Mexico later withdrew from proceedings,  and Indonesia's bid was rejected by FIFA in February after the Indonesian government failed to submit a letter to support the bid.  During the bidding process, the three remaining non-UEFA nations (Australia, Japan, and the United States) gradually withdrew from the bids, and the UEFA nations were thus ruled out of the bid. As such, there were eventually four bids for the FIFA World Cup, two of which were joint bids: England, Russia, Netherlands/Belgium, and Portugal/Spain.\n",
      "The-member FIFA Executive Committee convened in Zürich on December to vote to select the hosts of both tournaments. Russia won the right to be the host in the second round of voting. The Portugal/Spain bid came second, and that from Belgium/Netherlands third. England, which was bidding to host its second tournament, was eliminated in the first round\n",
      "The English Football Association and others raised concerns of bribery on the part of the Russian team and corruption from FIFA members. They claimed that four members of the executive committee had requested bribes to vote for England, and Sepp Blatter had said that it had already been arranged before the vote that Russia would win.  The Garcia Report, an internal investigation led by Michael J. Garcia, was withheld from public release by Hans-Joachim Eckert, FIFA's head of adjudication on ethical matters. Eckert instead released a shorter revised summary, and his (and therefore FIFA's) reluctance to publish the full report caused Garcia to resign in protest. Because of the controversy, the FA refused to accept Eckert's absolving of Russia from blame, with Greg Dyke calling for a re-examination of the affair and David Bernstein calling for a boycott of the World Cup.\n",
      "At an estimated cost of over  billion as of June,  it is the most expensive World Cup in history, surpassing the cost of the FIFA World Cup in Brazil. \n",
      "The Russian government had originally earmarked a budget of around  billion which was later slashed to  billion for the preparations of the World Cup, of which half is spent on transport infrastructure. As part of the program for preparation to the FIFA World Cup, a federal sub-program \"Construction and Renovation of Transport Infrastructure\" was implemented with a total budget of billion rubles, with billion coming from the federal budget, billion from regional budgets, and billion from investors. The biggest item of federal spending was the aviation infrastructure  billion rubles).] Construction of new hotels was a crucial area of infrastructure development in the World Cup host cities. Costs continued to balloon as preparations were underway\n",
      "There were goals scored in matches, for an average of goals per match.\n",
      "Twelve own goals were scored during the tournament, doubling the record of six set in\n",
      "\n",
      "\n",
      "\n",
      "\n"
     ]
    }
   ],
   "source": [
    "#Print the Text After Removing Digits\n",
    "print (\"After Removing Digits: \\n\")\n",
    "print (TextAfterRemovingDigits(content))\n",
    "print (\"\\n\")"
   ]
  },
  {
   "cell_type": "code",
   "execution_count": 9,
   "metadata": {
    "ExecuteTime": {
     "end_time": "2021-08-21T15:40:11.383346Z",
     "start_time": "2021-08-21T15:40:11.338344Z"
    }
   },
   "outputs": [
    {
     "name": "stdout",
     "output_type": "stream",
     "text": [
      "Capitalized Words: \n",
      "\n",
      "['World', 'It', 'Russia', 'June', 'July', 'It', 'World', 'Cup', 'Eastern', 'Europe', 'Europe', 'At', 'World', 'Cup', 'It', 'World', 'Cup', 'The', 'Of', 'Iceland', 'Panama', 'World', 'Cup', 'A', 'The', 'July', 'Luzhniki', 'Stadium', 'Moscow', 'France', 'Croatia', 'France', 'World', 'Cup', 'European', 'The', 'World', 'Cup', 'January', 'February', 'Initially', 'World', 'Cup', 'Mexico', 'Indonesia', 'February', 'Indonesian', 'During', 'Australia', 'Japan', 'United', 'States', 'As', 'World', 'Cup', 'England', 'Russia', 'Netherlands', 'Belgium', 'Portugal', 'Spain', 'The', 'Executive', 'Committee', 'December', 'Russia', 'The', 'Portugal', 'Spain', 'Belgium', 'Netherlands', 'England', 'The', 'English', 'Football', 'Association', 'Russian', 'They', 'England', 'Sepp', 'Blatter', 'Russia', 'The', 'Garcia', 'Report', 'Michael', 'J', 'Garcia', 'Hans', 'Joachim', 'Eckert', 'Eckert', 'Garcia', 'Because', 'Eckert', 'Russia', 'Greg', 'Dyke', 'David', 'Bernstein', 'World', 'Cup', 'At', 'June', 'World', 'Cup', 'World', 'Cup', 'Brazil', 'The', 'Russian', 'World', 'Cup', 'As', 'World', 'Cup', 'Construction', 'Renovation', 'Transport', 'Infrastructure', 'The', 'Construction', 'World', 'Cup', 'Costs', 'There', 'Twelve']\n",
      "\n",
      "\n"
     ]
    }
   ],
   "source": [
    "#Print the Capitalized Words\n",
    "print (\"Capitalized Words: \\n\")\n",
    "print (AllCapitalizedWordsFromText(content))\n",
    "print (\"\\n\")"
   ]
  },
  {
   "cell_type": "code",
   "execution_count": 10,
   "metadata": {
    "ExecuteTime": {
     "end_time": "2021-08-21T15:40:11.482352Z",
     "start_time": "2021-08-21T15:40:11.385346Z"
    }
   },
   "outputs": [
    {
     "name": "stdout",
     "output_type": "stream",
     "text": [
      "Emails: \n",
      "\n",
      "[]\n",
      "\n",
      "\n"
     ]
    }
   ],
   "source": [
    "#Print the Emails found in string\n",
    "print (\"Emails: \\n\")\n",
    "print (AllEmailsFromText(content))\n",
    "print (\"\\n\")"
   ]
  },
  {
   "cell_type": "markdown",
   "metadata": {},
   "source": [
    "##  Write Python functions that accept a string as an input and return the following chunks:\n",
    "* Phrases having proper nouns followed by verbs (Take function name as “ChunkingVer1”)\n",
    "* Verb phrases having verbs followed by adjectives (Take function name as “ChunkingVer2”)\n",
    "* Noun phrases having determiners followed by nouns (Take function name as “ChunkingVer3”)\n",
    "* Verb phrases having verbs followed by adverbs (Take function name as “ChunkingVer4”)\n",
    "* Phrases having delimiter, adjectives, and nouns in the respective order. (Take function name as “ChunkingVer5”)\n",
    "* Noun phrases having nouns and adjectives, terminated with nouns. (Take function name as “ChunkingVer5”)\n",
    "\n",
    "Run all the functions for the first sentence in the file “FIFAWorldCup2018.txt” and print the results."
   ]
  },
  {
   "cell_type": "code",
   "execution_count": 11,
   "metadata": {
    "ExecuteTime": {
     "end_time": "2021-08-21T15:40:11.519354Z",
     "start_time": "2021-08-21T15:40:11.484352Z"
    }
   },
   "outputs": [],
   "source": [
    "import nltk\n",
    "\n",
    "#Phrases having Proper nouns followed by Verbs\n",
    "def ChunkingVer1(sent):\n",
    "    sent_tokens=nltk.pos_tag(nltk.word_tokenize(sent))\n",
    "    grammar=r\"Phrases:{<NNP|NNPS>*<NNP|NNPS><VB|VBD|VBG|VBZ|VBP|VBN>*<VB|VBD|VBG|VBZ|VBP|VBN>}\"\n",
    "    chunk_parser=nltk.RegexpParser(grammar)\n",
    "    chunk_result=chunk_parser.parse(sent_tokens)\n",
    "    return chunk_result\n",
    "\n",
    "\n",
    "#Verb Phrases having Verbs followed by Adjectives\n",
    "def ChunkingVer2(sent):\n",
    "    sent_tokens=nltk.pos_tag(nltk.word_tokenize(sent))\n",
    "    grammar=r\"VerbPhrases:{<VB|VBD|VBG|VBZ|VBP|VBN>*<VB|VBD|VBG|VBZ|VBP|VBN><JJ|JJR|JJS>*<JJ|JJR|JJS>}\"\n",
    "    chunk_parser=nltk.RegexpParser(grammar)\n",
    "    chunk_result=chunk_parser.parse(sent_tokens)\n",
    "    return chunk_result\n",
    "\n",
    "#Noun Phrases having Determiners followed by Nouns\n",
    "def ChunkingVer3(sent):\n",
    "    sent_tokens=nltk.pos_tag(nltk.word_tokenize(sent))\n",
    "    grammar=r\"NounPhrases:{<DT><NN|NNS|NNP|NNPS>*<NN|NNS|NNP|NNPS>}\"\n",
    "    chunk_parser=nltk.RegexpParser(grammar)\n",
    "    chunk_result=chunk_parser.parse(sent_tokens)\n",
    "    return chunk_result\n",
    "\n",
    "#Verb Phrases having Verbs followed by Adverbs\n",
    "def ChunkingVer4(sent):\n",
    "    sent_tokens=nltk.pos_tag(nltk.word_tokenize(sent))\n",
    "    grammar=r\"VerbPhrases:{<VB|VBD|VBG|VBZ|VBP|VBN>*<VB|VBD|VBG|VBZ|VBP|VBN><RB|RBR>*<RB|RBR>}\"\n",
    "    chunk_parser=nltk.RegexpParser(grammar)\n",
    "    chunk_result=chunk_parser.parse(sent_tokens)\n",
    "    return chunk_result\n",
    "\n",
    "#Phrases having Delimiter, Adjectives and Nouns in the respective order.\n",
    "def ChunkingVer5(sent):\n",
    "    sent_tokens=nltk.pos_tag(nltk.word_tokenize(sent))\n",
    "    grammar=r\"Phrases:{<DT><JJ><NN|NNP|NNS|NNPS>}\"\n",
    "    chunk_parser=nltk.RegexpParser(grammar)\n",
    "    chunk_result=chunk_parser.parse(sent_tokens)\n",
    "    return chunk_result\n",
    "\n",
    "#Noun Phrases which having Nouns and Adjectives, terminated with Nouns. \n",
    "def ChunkingVer6(sent):\n",
    "    sent_tokens=nltk.pos_tag(nltk.word_tokenize(sent))\n",
    "    grammar=r\"NounPhrases:{<NN|NNP|NNS|NNPS><JJ><NN|NNP|NNS|NNPS>}\"\n",
    "    chunk_parser=nltk.RegexpParser(grammar)\n",
    "    chunk_result=chunk_parser.parse(sent_tokens)\n",
    "\n",
    "    return chunk_result"
   ]
  },
  {
   "cell_type": "code",
   "execution_count": 12,
   "metadata": {
    "ExecuteTime": {
     "end_time": "2021-08-21T15:40:11.557356Z",
     "start_time": "2021-08-21T15:40:11.522354Z"
    }
   },
   "outputs": [],
   "source": [
    "#Run all the function for the first sentence in the file “FIFAWorldCup2018.txt” and print the results.\n",
    "\n",
    "file=open(\"FIFAWorldCup2018.txt\",'r')\n",
    "content=file.read()\n",
    "file.close()\n",
    "\n",
    "first_sent=content.split(\".\")[0]+\".\""
   ]
  },
  {
   "cell_type": "code",
   "execution_count": 13,
   "metadata": {
    "ExecuteTime": {
     "end_time": "2021-08-21T15:40:12.053385Z",
     "start_time": "2021-08-21T15:40:11.558356Z"
    }
   },
   "outputs": [
    {
     "data": {
      "image/png": "[encoded data removed]",
      "text/plain": [
       "Tree('S', [('2018', 'CD'), Tree('Phrases', [('FIFA', 'NNP'), ('World', 'NNP'), ('CUP', 'NNP'), ('is', 'VBZ')]), ('an', 'DT'), ('international', 'JJ'), ('tournament', 'NN'), ('where', 'WRB'), ('all', 'DT'), ('teams', 'NNS'), ('compete', 'VBP'), ('religously', 'RB'), ('and', 'CC'), ('they', 'PRP'), ('showcase', 'VBP'), ('beautiful', 'JJ'), ('talent', 'NN'), ('.', '.')])"
      ]
     },
     "execution_count": 13,
     "metadata": {},
     "output_type": "execute_result"
    }
   ],
   "source": [
    "#Phrases having proper nouns followed by verbs \n",
    "ChunkingVer1(first_sent)"
   ]
  },
  {
   "cell_type": "code",
   "execution_count": 14,
   "metadata": {
    "ExecuteTime": {
     "end_time": "2021-08-21T15:40:12.494410Z",
     "start_time": "2021-08-21T15:40:12.057385Z"
    }
   },
   "outputs": [
    {
     "data": {
      "image/png": "[encoded data removed]",
      "text/plain": [
       "Tree('S', [('2018', 'CD'), ('FIFA', 'NNP'), ('World', 'NNP'), ('CUP', 'NNP'), ('is', 'VBZ'), ('an', 'DT'), ('international', 'JJ'), ('tournament', 'NN'), ('where', 'WRB'), ('all', 'DT'), ('teams', 'NNS'), ('compete', 'VBP'), ('religously', 'RB'), ('and', 'CC'), ('they', 'PRP'), Tree('VerbPhrases', [('showcase', 'VBP'), ('beautiful', 'JJ')]), ('talent', 'NN'), ('.', '.')])"
      ]
     },
     "execution_count": 14,
     "metadata": {},
     "output_type": "execute_result"
    }
   ],
   "source": [
    "#Verb Phrases having Verbs followed by Adjectives\n",
    "ChunkingVer2(first_sent)"
   ]
  },
  {
   "cell_type": "code",
   "execution_count": 15,
   "metadata": {
    "ExecuteTime": {
     "end_time": "2021-08-21T15:40:12.958436Z",
     "start_time": "2021-08-21T15:40:12.496410Z"
    }
   },
   "outputs": [
    {
     "data": {
      "image/png": "[encoded data removed]",
      "text/plain": [
       "Tree('S', [('2018', 'CD'), ('FIFA', 'NNP'), ('World', 'NNP'), ('CUP', 'NNP'), ('is', 'VBZ'), ('an', 'DT'), ('international', 'JJ'), ('tournament', 'NN'), ('where', 'WRB'), Tree('NounPhrases', [('all', 'DT'), ('teams', 'NNS')]), ('compete', 'VBP'), ('religously', 'RB'), ('and', 'CC'), ('they', 'PRP'), ('showcase', 'VBP'), ('beautiful', 'JJ'), ('talent', 'NN'), ('.', '.')])"
      ]
     },
     "execution_count": 15,
     "metadata": {},
     "output_type": "execute_result"
    }
   ],
   "source": [
    "#Noun Phrases having Determiners followed by Nouns\n",
    "ChunkingVer3(first_sent)"
   ]
  },
  {
   "cell_type": "code",
   "execution_count": 16,
   "metadata": {
    "ExecuteTime": {
     "end_time": "2021-08-21T15:40:13.385461Z",
     "start_time": "2021-08-21T15:40:12.962437Z"
    }
   },
   "outputs": [
    {
     "data": {
      "image/png": "[encoded data removed]",
      "text/plain": [
       "Tree('S', [('2018', 'CD'), ('FIFA', 'NNP'), ('World', 'NNP'), ('CUP', 'NNP'), ('is', 'VBZ'), ('an', 'DT'), ('international', 'JJ'), ('tournament', 'NN'), ('where', 'WRB'), ('all', 'DT'), ('teams', 'NNS'), Tree('VerbPhrases', [('compete', 'VBP'), ('religously', 'RB')]), ('and', 'CC'), ('they', 'PRP'), ('showcase', 'VBP'), ('beautiful', 'JJ'), ('talent', 'NN'), ('.', '.')])"
      ]
     },
     "execution_count": 16,
     "metadata": {},
     "output_type": "execute_result"
    }
   ],
   "source": [
    "#Verb Phrases having Verbs followed by Adverbs\n",
    "ChunkingVer4(first_sent)"
   ]
  },
  {
   "cell_type": "code",
   "execution_count": 17,
   "metadata": {
    "ExecuteTime": {
     "end_time": "2021-08-21T15:40:13.801485Z",
     "start_time": "2021-08-21T15:40:13.386461Z"
    }
   },
   "outputs": [
    {
     "data": {
      "image/png": "[encoded data removed]",
      "text/plain": [
       "Tree('S', [('2018', 'CD'), ('FIFA', 'NNP'), ('World', 'NNP'), ('CUP', 'NNP'), ('is', 'VBZ'), Tree('Phrases', [('an', 'DT'), ('international', 'JJ'), ('tournament', 'NN')]), ('where', 'WRB'), ('all', 'DT'), ('teams', 'NNS'), ('compete', 'VBP'), ('religously', 'RB'), ('and', 'CC'), ('they', 'PRP'), ('showcase', 'VBP'), ('beautiful', 'JJ'), ('talent', 'NN'), ('.', '.')])"
      ]
     },
     "execution_count": 17,
     "metadata": {},
     "output_type": "execute_result"
    }
   ],
   "source": [
    "#Phrases having Delimiter, Adjectives and Nouns in the respective order.\n",
    "ChunkingVer5(first_sent)"
   ]
  },
  {
   "cell_type": "code",
   "execution_count": 18,
   "metadata": {
    "ExecuteTime": {
     "end_time": "2021-08-21T15:40:14.208508Z",
     "start_time": "2021-08-21T15:40:13.803485Z"
    }
   },
   "outputs": [
    {
     "data": {
      "image/png": "[encoded data removed]",
      "text/plain": [
       "Tree('S', [('2018', 'CD'), ('FIFA', 'NNP'), ('World', 'NNP'), ('CUP', 'NNP'), ('is', 'VBZ'), ('an', 'DT'), ('international', 'JJ'), ('tournament', 'NN'), ('where', 'WRB'), ('all', 'DT'), ('teams', 'NNS'), ('compete', 'VBP'), ('religously', 'RB'), ('and', 'CC'), ('they', 'PRP'), ('showcase', 'VBP'), ('beautiful', 'JJ'), ('talent', 'NN'), ('.', '.')])"
      ]
     },
     "execution_count": 18,
     "metadata": {},
     "output_type": "execute_result"
    }
   ],
   "source": [
    "#Noun Phrases which having Nouns and Adjectives, terminated with Nouns.\n",
    "ChunkingVer6(first_sent)"
   ]
  },
  {
   "cell_type": "markdown",
   "metadata": {},
   "source": [
    "## 5. Make a content-free grammar having the following rules: \n",
    "* Noun phrases are followed by verb phrases\n",
    "* Verb phrase can have: \n",
    "    * Verb and noun phrases \n",
    "    * Verb, noun phrases, and preposition phrases\n",
    "* Noun phrases can have: \n",
    "    * Delimiters followed by noun \n",
    "* Preposition phrase has a preposition followed by a noun phrase\n",
    "\n",
    "The delimiters, verbs, prepositions, and nouns for the grammar should be the 2 most frequent words of each type \n",
    "from “FIFAWorldCup2018.txt”. Generate the CFG for “FIFAWorldCup2018.txt” file and save them in a file named \n",
    "“CFG.txt”"
   ]
  },
  {
   "cell_type": "code",
   "execution_count": 19,
   "metadata": {
    "ExecuteTime": {
     "end_time": "2021-08-21T15:40:14.429521Z",
     "start_time": "2021-08-21T15:40:14.214508Z"
    }
   },
   "outputs": [
    {
     "name": "stdout",
     "output_type": "stream",
     "text": [
      "Nouns: ['world', 'cup']\n",
      "Verbs: ['was', 'had']\n",
      "Prepositions: ['of', 'in']\n",
      "Delimiters: ['the', 'a']\n"
     ]
    }
   ],
   "source": [
    "#2 most common Nouns\n",
    "print (\"Nouns:\",GetNMostFrequentNouns(content,2))\n",
    "\n",
    "#2 most common verbs\n",
    "print (\"Verbs:\",GetNMostFrequentVerbs(content,2))\n",
    "\n",
    "#2 most common prepositions\n",
    "print (\"Prepositions:\",GetNMostFrequentPrepositions(content,2))\n",
    "\n",
    "#2 most common delimiters\n",
    "print (\"Delimiters:\",GetNMostFrequentDelimiters(content,2))"
   ]
  },
  {
   "cell_type": "code",
   "execution_count": 20,
   "metadata": {
    "ExecuteTime": {
     "end_time": "2021-08-21T15:40:14.442521Z",
     "start_time": "2021-08-21T15:40:14.431521Z"
    }
   },
   "outputs": [],
   "source": [
    "from nltk.parse.generate import generate\n",
    "grammar = nltk.CFG.fromstring(\"\"\"\n",
    " S -> NP VP\n",
    " VP -> V NP | V NP PP\n",
    " V -> \"had\" | \"was\"\n",
    " NP -> DT N \n",
    " DT -> \"a\" | \"the\" \n",
    " N -> \"world\" | \"cup\"\n",
    " PP -> P NP\n",
    " P -> \"of\" | \"in\"\n",
    " \"\"\")\n",
    "\n",
    "generated_grammar=[]\n",
    "for sent in generate(grammar):\n",
    "    generated_grammar.append(\" \".join(sent))"
   ]
  },
  {
   "cell_type": "code",
   "execution_count": 21,
   "metadata": {
    "ExecuteTime": {
     "end_time": "2021-08-21T15:40:14.484524Z",
     "start_time": "2021-08-21T15:40:14.444521Z"
    }
   },
   "outputs": [],
   "source": [
    "#Saving in a file name \"CGF.txt\"\n",
    "file=open('CFG.txt','a+')\n",
    "for each in generated_grammar:\n",
    "    file.write(each+\"\\n\")\n",
    "file.close()    "
   ]
  },
  {
   "cell_type": "code",
   "execution_count": 22,
   "metadata": {
    "ExecuteTime": {
     "end_time": "2021-08-21T15:59:41.199256Z",
     "start_time": "2021-08-21T15:59:41.190255Z"
    }
   },
   "outputs": [
    {
     "name": "stdout",
     "output_type": "stream",
     "text": [
      "a world had a world\n",
      "a world had a cup\n",
      "a world had the world\n",
      "a world had the cup\n",
      "a world was a world\n",
      "a world was a cup\n",
      "a world was the world\n",
      "a world was the cup\n",
      "a world had a world of a world\n",
      "a world had a world of a cup\n",
      "a world had a world of the world\n",
      "a world had a world of the cup\n",
      "a world had a world in a world\n",
      "a world had a world in a cup\n",
      "a world had a world in the world\n",
      "a world had a world in the cup\n",
      "a world had a cup of a world\n",
      "a world had a cup of a cup\n",
      "a world had a cup of the world\n",
      "a world had a cup of the cup\n",
      "a world had a cup in a world\n",
      "a world had a cup in a cup\n",
      "a world had a cup in the world\n",
      "a world had a cup in the cup\n",
      "a world had the world of a world\n",
      "a world had the world of a cup\n",
      "a world had the world of the world\n",
      "a world had the world of the cup\n",
      "a world had the world in a world\n",
      "a world had the world in a cup\n",
      "a world had the world in the world\n",
      "a world had the world in the cup\n",
      "a world had the cup of a world\n",
      "a world had the cup of a cup\n",
      "a world had the cup of the world\n",
      "a world had the cup of the cup\n",
      "a world had the cup in a world\n",
      "a world had the cup in a cup\n",
      "a world had the cup in the world\n",
      "a world had the cup in the cup\n",
      "a world was a world of a world\n",
      "a world was a world of a cup\n",
      "a world was a world of the world\n",
      "a world was a world of the cup\n",
      "a world was a world in a world\n",
      "a world was a world in a cup\n",
      "a world was a world in the world\n",
      "a world was a world in the cup\n",
      "a world was a cup of a world\n",
      "a world was a cup of a cup\n",
      "a world was a cup of the world\n",
      "a world was a cup of the cup\n",
      "a world was a cup in a world\n",
      "a world was a cup in a cup\n",
      "a world was a cup in the world\n",
      "a world was a cup in the cup\n",
      "a world was the world of a world\n",
      "a world was the world of a cup\n",
      "a world was the world of the world\n",
      "a world was the world of the cup\n",
      "a world was the world in a world\n",
      "a world was the world in a cup\n",
      "a world was the world in the world\n",
      "a world was the world in the cup\n",
      "a world was the cup of a world\n",
      "a world was the cup of a cup\n",
      "a world was the cup of the world\n",
      "a world was the cup of the cup\n",
      "a world was the cup in a world\n",
      "a world was the cup in a cup\n",
      "a world was the cup in the world\n",
      "a world was the cup in the cup\n",
      "a cup had a world\n",
      "a cup had a cup\n",
      "a cup had the world\n",
      "a cup had the cup\n",
      "a cup was a world\n",
      "a cup was a cup\n",
      "a cup was the world\n",
      "a cup was the cup\n",
      "a cup had a world of a world\n",
      "a cup had a world of a cup\n",
      "a cup had a world of the world\n",
      "a cup had a world of the cup\n",
      "a cup had a world in a world\n",
      "a cup had a world in a cup\n",
      "a cup had a world in the world\n",
      "a cup had a world in the cup\n",
      "a cup had a cup of a world\n",
      "a cup had a cup of a cup\n",
      "a cup had a cup of the world\n",
      "a cup had a cup of the cup\n",
      "a cup had a cup in a world\n",
      "a cup had a cup in a cup\n",
      "a cup had a cup in the world\n",
      "a cup had a cup in the cup\n",
      "a cup had the world of a world\n",
      "a cup had the world of a cup\n",
      "a cup had the world of the world\n",
      "a cup had the world of the cup\n",
      "a cup had the world in a world\n",
      "a cup had the world in a cup\n",
      "a cup had the world in the world\n",
      "a cup had the world in the cup\n",
      "a cup had the cup of a world\n",
      "a cup had the cup of a cup\n",
      "a cup had the cup of the world\n",
      "a cup had the cup of the cup\n",
      "a cup had the cup in a world\n",
      "a cup had the cup in a cup\n",
      "a cup had the cup in the world\n",
      "a cup had the cup in the cup\n",
      "a cup was a world of a world\n",
      "a cup was a world of a cup\n",
      "a cup was a world of the world\n",
      "a cup was a world of the cup\n",
      "a cup was a world in a world\n",
      "a cup was a world in a cup\n",
      "a cup was a world in the world\n",
      "a cup was a world in the cup\n",
      "a cup was a cup of a world\n",
      "a cup was a cup of a cup\n",
      "a cup was a cup of the world\n",
      "a cup was a cup of the cup\n",
      "a cup was a cup in a world\n",
      "a cup was a cup in a cup\n",
      "a cup was a cup in the world\n",
      "a cup was a cup in the cup\n",
      "a cup was the world of a world\n",
      "a cup was the world of a cup\n",
      "a cup was the world of the world\n",
      "a cup was the world of the cup\n",
      "a cup was the world in a world\n",
      "a cup was the world in a cup\n",
      "a cup was the world in the world\n",
      "a cup was the world in the cup\n",
      "a cup was the cup of a world\n",
      "a cup was the cup of a cup\n",
      "a cup was the cup of the world\n",
      "a cup was the cup of the cup\n",
      "a cup was the cup in a world\n",
      "a cup was the cup in a cup\n",
      "a cup was the cup in the world\n",
      "a cup was the cup in the cup\n",
      "the world had a world\n",
      "the world had a cup\n",
      "the world had the world\n",
      "the world had the cup\n",
      "the world was a world\n",
      "the world was a cup\n",
      "the world was the world\n",
      "the world was the cup\n",
      "the world had a world of a world\n",
      "the world had a world of a cup\n",
      "the world had a world of the world\n",
      "the world had a world of the cup\n",
      "the world had a world in a world\n",
      "the world had a world in a cup\n",
      "the world had a world in the world\n",
      "the world had a world in the cup\n",
      "the world had a cup of a world\n",
      "the world had a cup of a cup\n",
      "the world had a cup of the world\n",
      "the world had a cup of the cup\n",
      "the world had a cup in a world\n",
      "the world had a cup in a cup\n",
      "the world had a cup in the world\n",
      "the world had a cup in the cup\n",
      "the world had the world of a world\n",
      "the world had the world of a cup\n",
      "the world had the world of the world\n",
      "the world had the world of the cup\n",
      "the world had the world in a world\n",
      "the world had the world in a cup\n",
      "the world had the world in the world\n",
      "the world had the world in the cup\n",
      "the world had the cup of a world\n",
      "the world had the cup of a cup\n",
      "the world had the cup of the world\n",
      "the world had the cup of the cup\n",
      "the world had the cup in a world\n",
      "the world had the cup in a cup\n",
      "the world had the cup in the world\n",
      "the world had the cup in the cup\n",
      "the world was a world of a world\n",
      "the world was a world of a cup\n",
      "the world was a world of the world\n",
      "the world was a world of the cup\n",
      "the world was a world in a world\n",
      "the world was a world in a cup\n",
      "the world was a world in the world\n",
      "the world was a world in the cup\n",
      "the world was a cup of a world\n",
      "the world was a cup of a cup\n",
      "the world was a cup of the world\n",
      "the world was a cup of the cup\n",
      "the world was a cup in a world\n",
      "the world was a cup in a cup\n",
      "the world was a cup in the world\n",
      "the world was a cup in the cup\n",
      "the world was the world of a world\n",
      "the world was the world of a cup\n",
      "the world was the world of the world\n",
      "the world was the world of the cup\n",
      "the world was the world in a world\n",
      "the world was the world in a cup\n",
      "the world was the world in the world\n",
      "the world was the world in the cup\n",
      "the world was the cup of a world\n",
      "the world was the cup of a cup\n",
      "the world was the cup of the world\n",
      "the world was the cup of the cup\n",
      "the world was the cup in a world\n",
      "the world was the cup in a cup\n",
      "the world was the cup in the world\n",
      "the world was the cup in the cup\n",
      "the cup had a world\n",
      "the cup had a cup\n",
      "the cup had the world\n",
      "the cup had the cup\n",
      "the cup was a world\n",
      "the cup was a cup\n",
      "the cup was the world\n",
      "the cup was the cup\n",
      "the cup had a world of a world\n",
      "the cup had a world of a cup\n",
      "the cup had a world of the world\n",
      "the cup had a world of the cup\n",
      "the cup had a world in a world\n",
      "the cup had a world in a cup\n",
      "the cup had a world in the world\n",
      "the cup had a world in the cup\n",
      "the cup had a cup of a world\n",
      "the cup had a cup of a cup\n",
      "the cup had a cup of the world\n",
      "the cup had a cup of the cup\n",
      "the cup had a cup in a world\n",
      "the cup had a cup in a cup\n",
      "the cup had a cup in the world\n",
      "the cup had a cup in the cup\n",
      "the cup had the world of a world\n",
      "the cup had the world of a cup\n",
      "the cup had the world of the world\n",
      "the cup had the world of the cup\n",
      "the cup had the world in a world\n",
      "the cup had the world in a cup\n",
      "the cup had the world in the world\n",
      "the cup had the world in the cup\n",
      "the cup had the cup of a world\n",
      "the cup had the cup of a cup\n",
      "the cup had the cup of the world\n",
      "the cup had the cup of the cup\n",
      "the cup had the cup in a world\n",
      "the cup had the cup in a cup\n",
      "the cup had the cup in the world\n",
      "the cup had the cup in the cup\n",
      "the cup was a world of a world\n",
      "the cup was a world of a cup\n",
      "the cup was a world of the world\n",
      "the cup was a world of the cup\n",
      "the cup was a world in a world\n",
      "the cup was a world in a cup\n",
      "the cup was a world in the world\n",
      "the cup was a world in the cup\n",
      "the cup was a cup of a world\n",
      "the cup was a cup of a cup\n",
      "the cup was a cup of the world\n",
      "the cup was a cup of the cup\n",
      "the cup was a cup in a world\n",
      "the cup was a cup in a cup\n",
      "the cup was a cup in the world\n",
      "the cup was a cup in the cup\n",
      "the cup was the world of a world\n",
      "the cup was the world of a cup\n",
      "the cup was the world of the world\n",
      "the cup was the world of the cup\n",
      "the cup was the world in a world\n",
      "the cup was the world in a cup\n",
      "the cup was the world in the world\n",
      "the cup was the world in the cup\n",
      "the cup was the cup of a world\n",
      "the cup was the cup of a cup\n",
      "the cup was the cup of the world\n",
      "the cup was the cup of the cup\n",
      "the cup was the cup in a world\n",
      "the cup was the cup in a cup\n",
      "the cup was the cup in the world\n",
      "the cup was the cup in the cup\n",
      "a world had a world\n",
      "a world had a cup\n",
      "a world had the world\n",
      "a world had the cup\n",
      "a world was a world\n",
      "a world was a cup\n",
      "a world was the world\n",
      "a world was the cup\n",
      "a world had a world of a world\n",
      "a world had a world of a cup\n",
      "a world had a world of the world\n",
      "a world had a world of the cup\n",
      "a world had a world in a world\n",
      "a world had a world in a cup\n",
      "a world had a world in the world\n",
      "a world had a world in the cup\n",
      "a world had a cup of a world\n",
      "a world had a cup of a cup\n",
      "a world had a cup of the world\n",
      "a world had a cup of the cup\n",
      "a world had a cup in a world\n",
      "a world had a cup in a cup\n",
      "a world had a cup in the world\n",
      "a world had a cup in the cup\n",
      "a world had the world of a world\n",
      "a world had the world of a cup\n",
      "a world had the world of the world\n",
      "a world had the world of the cup\n",
      "a world had the world in a world\n",
      "a world had the world in a cup\n",
      "a world had the world in the world\n",
      "a world had the world in the cup\n",
      "a world had the cup of a world\n",
      "a world had the cup of a cup\n",
      "a world had the cup of the world\n",
      "a world had the cup of the cup\n",
      "a world had the cup in a world\n",
      "a world had the cup in a cup\n",
      "a world had the cup in the world\n",
      "a world had the cup in the cup\n",
      "a world was a world of a world\n",
      "a world was a world of a cup\n",
      "a world was a world of the world\n",
      "a world was a world of the cup\n",
      "a world was a world in a world\n",
      "a world was a world in a cup\n",
      "a world was a world in the world\n",
      "a world was a world in the cup\n",
      "a world was a cup of a world\n",
      "a world was a cup of a cup\n",
      "a world was a cup of the world\n",
      "a world was a cup of the cup\n",
      "a world was a cup in a world\n",
      "a world was a cup in a cup\n",
      "a world was a cup in the world\n",
      "a world was a cup in the cup\n",
      "a world was the world of a world\n",
      "a world was the world of a cup\n",
      "a world was the world of the world\n",
      "a world was the world of the cup\n",
      "a world was the world in a world\n",
      "a world was the world in a cup\n",
      "a world was the world in the world\n",
      "a world was the world in the cup\n",
      "a world was the cup of a world\n",
      "a world was the cup of a cup\n",
      "a world was the cup of the world\n",
      "a world was the cup of the cup\n",
      "a world was the cup in a world\n",
      "a world was the cup in a cup\n",
      "a world was the cup in the world\n",
      "a world was the cup in the cup\n",
      "a cup had a world\n",
      "a cup had a cup\n",
      "a cup had the world\n",
      "a cup had the cup\n",
      "a cup was a world\n",
      "a cup was a cup\n",
      "a cup was the world\n",
      "a cup was the cup\n",
      "a cup had a world of a world\n",
      "a cup had a world of a cup\n",
      "a cup had a world of the world\n",
      "a cup had a world of the cup\n",
      "a cup had a world in a world\n",
      "a cup had a world in a cup\n",
      "a cup had a world in the world\n",
      "a cup had a world in the cup\n",
      "a cup had a cup of a world\n",
      "a cup had a cup of a cup\n",
      "a cup had a cup of the world\n",
      "a cup had a cup of the cup\n",
      "a cup had a cup in a world\n",
      "a cup had a cup in a cup\n",
      "a cup had a cup in the world\n",
      "a cup had a cup in the cup\n",
      "a cup had the world of a world\n",
      "a cup had the world of a cup\n",
      "a cup had the world of the world\n",
      "a cup had the world of the cup\n",
      "a cup had the world in a world\n",
      "a cup had the world in a cup\n",
      "a cup had the world in the world\n",
      "a cup had the world in the cup\n",
      "a cup had the cup of a world\n",
      "a cup had the cup of a cup\n",
      "a cup had the cup of the world\n",
      "a cup had the cup of the cup\n",
      "a cup had the cup in a world\n",
      "a cup had the cup in a cup\n",
      "a cup had the cup in the world\n",
      "a cup had the cup in the cup\n",
      "a cup was a world of a world\n",
      "a cup was a world of a cup\n",
      "a cup was a world of the world\n",
      "a cup was a world of the cup\n",
      "a cup was a world in a world\n",
      "a cup was a world in a cup\n",
      "a cup was a world in the world\n",
      "a cup was a world in the cup\n",
      "a cup was a cup of a world\n",
      "a cup was a cup of a cup\n",
      "a cup was a cup of the world\n",
      "a cup was a cup of the cup\n",
      "a cup was a cup in a world\n",
      "a cup was a cup in a cup\n",
      "a cup was a cup in the world\n",
      "a cup was a cup in the cup\n",
      "a cup was the world of a world\n",
      "a cup was the world of a cup\n",
      "a cup was the world of the world\n",
      "a cup was the world of the cup\n",
      "a cup was the world in a world\n",
      "a cup was the world in a cup\n",
      "a cup was the world in the world\n",
      "a cup was the world in the cup\n",
      "a cup was the cup of a world\n",
      "a cup was the cup of a cup\n",
      "a cup was the cup of the world\n",
      "a cup was the cup of the cup\n",
      "a cup was the cup in a world\n",
      "a cup was the cup in a cup\n",
      "a cup was the cup in the world\n",
      "a cup was the cup in the cup\n",
      "the world had a world\n",
      "the world had a cup\n",
      "the world had the world\n",
      "the world had the cup\n",
      "the world was a world\n",
      "the world was a cup\n",
      "the world was the world\n",
      "the world was the cup\n",
      "the world had a world of a world\n",
      "the world had a world of a cup\n",
      "the world had a world of the world\n",
      "the world had a world of the cup\n",
      "the world had a world in a world\n",
      "the world had a world in a cup\n",
      "the world had a world in the world\n",
      "the world had a world in the cup\n",
      "the world had a cup of a world\n",
      "the world had a cup of a cup\n",
      "the world had a cup of the world\n",
      "the world had a cup of the cup\n",
      "the world had a cup in a world\n",
      "the world had a cup in a cup\n",
      "the world had a cup in the world\n",
      "the world had a cup in the cup\n",
      "the world had the world of a world\n",
      "the world had the world of a cup\n",
      "the world had the world of the world\n",
      "the world had the world of the cup\n",
      "the world had the world in a world\n",
      "the world had the world in a cup\n",
      "the world had the world in the world\n",
      "the world had the world in the cup\n",
      "the world had the cup of a world\n",
      "the world had the cup of a cup\n",
      "the world had the cup of the world\n",
      "the world had the cup of the cup\n",
      "the world had the cup in a world\n",
      "the world had the cup in a cup\n",
      "the world had the cup in the world\n",
      "the world had the cup in the cup\n",
      "the world was a world of a world\n",
      "the world was a world of a cup\n",
      "the world was a world of the world\n",
      "the world was a world of the cup\n",
      "the world was a world in a world\n",
      "the world was a world in a cup\n",
      "the world was a world in the world\n",
      "the world was a world in the cup\n",
      "the world was a cup of a world\n",
      "the world was a cup of a cup\n",
      "the world was a cup of the world\n",
      "the world was a cup of the cup\n",
      "the world was a cup in a world\n",
      "the world was a cup in a cup\n",
      "the world was a cup in the world\n",
      "the world was a cup in the cup\n",
      "the world was the world of a world\n",
      "the world was the world of a cup\n",
      "the world was the world of the world\n",
      "the world was the world of the cup\n",
      "the world was the world in a world\n",
      "the world was the world in a cup\n",
      "the world was the world in the world\n",
      "the world was the world in the cup\n",
      "the world was the cup of a world\n",
      "the world was the cup of a cup\n",
      "the world was the cup of the world\n",
      "the world was the cup of the cup\n",
      "the world was the cup in a world\n",
      "the world was the cup in a cup\n",
      "the world was the cup in the world\n",
      "the world was the cup in the cup\n",
      "the cup had a world\n",
      "the cup had a cup\n",
      "the cup had the world\n",
      "the cup had the cup\n",
      "the cup was a world\n",
      "the cup was a cup\n",
      "the cup was the world\n",
      "the cup was the cup\n",
      "the cup had a world of a world\n",
      "the cup had a world of a cup\n",
      "the cup had a world of the world\n",
      "the cup had a world of the cup\n",
      "the cup had a world in a world\n",
      "the cup had a world in a cup\n",
      "the cup had a world in the world\n",
      "the cup had a world in the cup\n",
      "the cup had a cup of a world\n",
      "the cup had a cup of a cup\n",
      "the cup had a cup of the world\n",
      "the cup had a cup of the cup\n",
      "the cup had a cup in a world\n",
      "the cup had a cup in a cup\n",
      "the cup had a cup in the world\n",
      "the cup had a cup in the cup\n",
      "the cup had the world of a world\n",
      "the cup had the world of a cup\n",
      "the cup had the world of the world\n",
      "the cup had the world of the cup\n",
      "the cup had the world in a world\n",
      "the cup had the world in a cup\n",
      "the cup had the world in the world\n",
      "the cup had the world in the cup\n",
      "the cup had the cup of a world\n",
      "the cup had the cup of a cup\n",
      "the cup had the cup of the world\n",
      "the cup had the cup of the cup\n",
      "the cup had the cup in a world\n",
      "the cup had the cup in a cup\n",
      "the cup had the cup in the world\n",
      "the cup had the cup in the cup\n",
      "the cup was a world of a world\n",
      "the cup was a world of a cup\n",
      "the cup was a world of the world\n",
      "the cup was a world of the cup\n",
      "the cup was a world in a world\n",
      "the cup was a world in a cup\n",
      "the cup was a world in the world\n",
      "the cup was a world in the cup\n",
      "the cup was a cup of a world\n",
      "the cup was a cup of a cup\n",
      "the cup was a cup of the world\n",
      "the cup was a cup of the cup\n",
      "the cup was a cup in a world\n",
      "the cup was a cup in a cup\n",
      "the cup was a cup in the world\n",
      "the cup was a cup in the cup\n",
      "the cup was the world of a world\n",
      "the cup was the world of a cup\n",
      "the cup was the world of the world\n",
      "the cup was the world of the cup\n",
      "the cup was the world in a world\n",
      "the cup was the world in a cup\n",
      "the cup was the world in the world\n",
      "the cup was the world in the cup\n",
      "the cup was the cup of a world\n",
      "the cup was the cup of a cup\n",
      "the cup was the cup of the world\n",
      "the cup was the cup of the cup\n",
      "the cup was the cup in a world\n",
      "the cup was the cup in a cup\n",
      "the cup was the cup in the world\n",
      "the cup was the cup in the cup\n",
      "\n"
     ]
    }
   ],
   "source": [
    "# Cross checking by reading the CFG file\n",
    "file = open('CFG.txt', 'r')\n",
    "read_content = file.read()\n",
    "file.close()\n",
    "print(read_content)"
   ]
  },
  {
   "cell_type": "code",
   "execution_count": null,
   "metadata": {},
   "outputs": [],
   "source": []
  }
 ],
 "metadata": {
  "kernelspec": {
   "display_name": "Python 3",
   "language": "python",
   "name": "python3"
  },
  "language_info": {
   "codemirror_mode": {
    "name": "ipython",
    "version": 3
   },
   "file_extension": ".py",
   "mimetype": "text/x-python",
   "name": "python",
   "nbconvert_exporter": "python",
   "pygments_lexer": "ipython3",
   "version": "3.8.10"
  },
  "toc": {
   "base_numbering": 1,
   "nav_menu": {},
   "number_sections": true,
   "sideBar": true,
   "skip_h1_title": false,
   "title_cell": "Table of Contents",
   "title_sidebar": "Contents",
   "toc_cell": false,
   "toc_position": {},
   "toc_section_display": true,
   "toc_window_display": false
  }
 },
 "nbformat": 4,
 "nbformat_minor": 2
}
